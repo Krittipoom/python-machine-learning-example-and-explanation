{
 "cells": [
  {
   "cell_type": "markdown",
   "id": "a501e7ce",
   "metadata": {},
   "source": [
    "# Hierarchical Clustering"
   ]
  },
  {
   "cell_type": "markdown",
   "id": "d2d23e2e",
   "metadata": {},
   "source": [
    "## Import necessary libraries"
   ]
  },
  {
   "cell_type": "code",
   "execution_count": 1,
   "id": "4cbffdde",
   "metadata": {},
   "outputs": [],
   "source": [
    "from sklearn.datasets import load_iris\n",
    "from scipy.cluster.hierarchy import linkage, dendrogram\n",
    "import matplotlib.pyplot as plt"
   ]
  },
  {
   "cell_type": "markdown",
   "id": "23e5634b",
   "metadata": {},
   "source": [
    "## Load iris dataset"
   ]
  },
  {
   "cell_type": "code",
   "execution_count": 2,
   "id": "452722d5",
   "metadata": {},
   "outputs": [],
   "source": [
    "data = load_iris()"
   ]
  },
  {
   "cell_type": "code",
   "execution_count": 3,
   "id": "d874118c",
   "metadata": {},
   "outputs": [
    {
     "name": "stdout",
     "output_type": "stream",
     "text": [
      "       0    1    2    3\n",
      "0    5.1  3.5  1.4  0.2\n",
      "1    4.9  3.0  1.4  0.2\n",
      "2    4.7  3.2  1.3  0.2\n",
      "3    4.6  3.1  1.5  0.2\n",
      "4    5.0  3.6  1.4  0.2\n",
      "..   ...  ...  ...  ...\n",
      "145  6.7  3.0  5.2  2.3\n",
      "146  6.3  2.5  5.0  1.9\n",
      "147  6.5  3.0  5.2  2.0\n",
      "148  6.2  3.4  5.4  2.3\n",
      "149  5.9  3.0  5.1  1.8\n",
      "\n",
      "[150 rows x 4 columns]\n"
     ]
    }
   ],
   "source": [
    "import pandas as pd\n",
    "print(pd.DataFrame(data.data))"
   ]
  },
  {
   "cell_type": "code",
   "execution_count": 4,
   "id": "62436a4d",
   "metadata": {},
   "outputs": [
    {
     "name": "stdout",
     "output_type": "stream",
     "text": [
      "     0\n",
      "0    0\n",
      "1    0\n",
      "2    0\n",
      "3    0\n",
      "4    0\n",
      "..  ..\n",
      "145  2\n",
      "146  2\n",
      "147  2\n",
      "148  2\n",
      "149  2\n",
      "\n",
      "[150 rows x 1 columns]\n"
     ]
    }
   ],
   "source": [
    "print(pd.DataFrame(data.target))"
   ]
  },
  {
   "cell_type": "markdown",
   "id": "a88e29e0",
   "metadata": {},
   "source": [
    "## Perform hierarchical clustering on data"
   ]
  },
  {
   "cell_type": "code",
   "execution_count": 5,
   "id": "7d810cf9",
   "metadata": {},
   "outputs": [],
   "source": [
    "Z = linkage(data.data, 'ward')"
   ]
  },
  {
   "cell_type": "markdown",
   "id": "3d513e5a",
   "metadata": {},
   "source": [
    "## Create dendrogram plot of clustering"
   ]
  },
  {
   "cell_type": "code",
   "execution_count": 6,
   "id": "df8e0589",
   "metadata": {},
   "outputs": [
    {
     "data": {
      "image/png": "[encoded data removed]",
      "text/plain": [
       "<Figure size 1200x600 with 1 Axes>"
      ]
     },
     "metadata": {},
     "output_type": "display_data"
    }
   ],
   "source": [
    "plt.figure(figsize=(12,6))\n",
    "dendrogram(Z, labels=data.target_names[data.target])\n",
    "plt.show()"
   ]
  },
  {
   "cell_type": "markdown",
   "id": "d9d91387",
   "metadata": {},
   "source": [
    "This code loads the iris dataset, performs hierarchical clustering on the data using the Ward method, and creates a dendrogram plot of the resulting clustering. You can run this code in a Jupyter Notebook or any other Python environment that has the necessary libraries installed."
   ]
  }
 ],
 "metadata": {
  "kernelspec": {
   "display_name": "Python 3 (ipykernel)",
   "language": "python",
   "name": "python3"
  },
  "language_info": {
   "codemirror_mode": {
    "name": "ipython",
    "version": 3
   },
   "file_extension": ".py",
   "mimetype": "text/x-python",
   "name": "python",
   "nbconvert_exporter": "python",
   "pygments_lexer": "ipython3",
   "version": "3.11.2"
  }
 },
 "nbformat": 4,
 "nbformat_minor": 5
}
